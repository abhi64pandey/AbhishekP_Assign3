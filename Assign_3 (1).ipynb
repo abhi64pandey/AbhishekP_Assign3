{
 "cells": [
  {
   "cell_type": "code",
   "execution_count": null,
   "id": "33c02460",
   "metadata": {},
   "outputs": [],
   "source": [
    "Q1 - Why are functions advantageous to have in your programs?\n",
    "\n",
    "Solution:\n",
    "    \n",
    "The fundtions reduce the need of duplicate codes and this makes the programs shoter and easier to update."
   ]
  },
  {
   "cell_type": "code",
   "execution_count": null,
   "id": "d9d44456",
   "metadata": {},
   "outputs": [],
   "source": [
    "Q2 - When does the code in a function run: when it's specified or when it's called?\n",
    "    \n",
    "Solution:\n",
    "\n",
    "The code in a function is executed when the function is called.    "
   ]
  },
  {
   "cell_type": "code",
   "execution_count": null,
   "id": "12531232",
   "metadata": {},
   "outputs": [],
   "source": [
    "Q3 - What statement creates a function?\n",
    "\n",
    "Solution:\n",
    "    \n",
    "\"Def\" keyword is a statement for defining the function.    "
   ]
  },
  {
   "cell_type": "code",
   "execution_count": null,
   "id": "4992ecf8",
   "metadata": {},
   "outputs": [],
   "source": [
    "Q4 - What is the difference between a function and a function call?\n",
    "\n",
    "Solution:\n",
    "    \n",
    "A function is a procedure to get a particular output and a function call is using function to achieve that task."
   ]
  },
  {
   "cell_type": "code",
   "execution_count": null,
   "id": "b009bbb7",
   "metadata": {},
   "outputs": [],
   "source": [
    "Q5 - How many global scopes are there in a Python program? How many local scopes?\n",
    "\n",
    "Solution:\n",
    "There are 3 types of scopes are there only, global, local and built-in. \n",
    "And it depends on the program that how many variable will be required locally or globally "
   ]
  },
  {
   "cell_type": "code",
   "execution_count": null,
   "id": "15cc851c",
   "metadata": {},
   "outputs": [],
   "source": [
    "Q6 - What happens to variables in a local scope when the function call returns?\n",
    "\n",
    "Solution:\n",
    "    \n",
    "When the exceution of the function call returns then the local variables becomes undefined \n",
    "or local variable disappear after the functions returns."
   ]
  },
  {
   "cell_type": "code",
   "execution_count": null,
   "id": "f470e415",
   "metadata": {},
   "outputs": [],
   "source": [
    "Q7 - What is the concept of a return value? Is it possible to have a return value in an expression?\n",
    "\n",
    "Solution:\n",
    "\n",
    "A return statement is used to end the execution of the function call and \"returns\" the result to the caller.\n",
    "The statements after the return values are not executed. \n",
    "If the return statement is without any expression, the specia value None is returned. "
   ]
  },
  {
   "cell_type": "code",
   "execution_count": null,
   "id": "82abcfff",
   "metadata": {},
   "outputs": [],
   "source": [
    "Q8 - If a function does not have a return statement, what is the return value of a call to that function?\n",
    "\n",
    "Solution:\n",
    "\n",
    "If a function does not have a return value, it returns special value None."
   ]
  },
  {
   "cell_type": "code",
   "execution_count": null,
   "id": "2c21a311",
   "metadata": {},
   "outputs": [],
   "source": [
    "Q9 - How do you make a function variable refer to the global variable?\n",
    "\n",
    "Solution:\n",
    "\n",
    "A global statement will force a variable in a function to refer to the global variable."
   ]
  },
  {
   "cell_type": "code",
   "execution_count": null,
   "id": "b0916d84",
   "metadata": {},
   "outputs": [],
   "source": [
    "Q10 -  What is the data type of None?\n",
    "\n",
    "Solution:\n",
    "    \n",
    "The data type of None is NoneType.    "
   ]
  },
  {
   "cell_type": "code",
   "execution_count": null,
   "id": "2f06c61a",
   "metadata": {},
   "outputs": [],
   "source": [
    "Q11 - What does the sentence import areallyourpetsnamederic do?\n",
    "\n",
    "Solution:\n",
    "  \n",
    "This import statement imports a module named areallyourpetsnamederic. "
   ]
  },
  {
   "cell_type": "code",
   "execution_count": null,
   "id": "24178c70",
   "metadata": {},
   "outputs": [],
   "source": [
    "Q12 -  If you had a bacon() feature in a spam module, what would you call it after importing spam?\n",
    "\n",
    "Solution:\n",
    "    \n",
    "This function can be called with spam.bacon()."
   ]
  },
  {
   "cell_type": "code",
   "execution_count": null,
   "id": "5402e81d",
   "metadata": {},
   "outputs": [],
   "source": [
    "Q13 - What can you do to save a programme from crashing if it encounters an error?\n",
    "\n",
    "Solution:\n",
    "\n",
    "We can place the line of code that might cause an error in a try clause."
   ]
  },
  {
   "cell_type": "code",
   "execution_count": null,
   "id": "5253e9ab",
   "metadata": {},
   "outputs": [],
   "source": [
    "Q14 -  What is the purpose of the try clause? What is the purpose of the except clause?\n",
    "\n",
    "Solution:\n",
    "    \n",
    "The code that could potentially cause an error goes in the try clause.\n",
    "The code that executes if an error happens goes in the except clause."
   ]
  }
 ],
 "metadata": {
  "kernelspec": {
   "display_name": "Python 3 (ipykernel)",
   "language": "python",
   "name": "python3"
  },
  "language_info": {
   "codemirror_mode": {
    "name": "ipython",
    "version": 3
   },
   "file_extension": ".py",
   "mimetype": "text/x-python",
   "name": "python",
   "nbconvert_exporter": "python",
   "pygments_lexer": "ipython3",
   "version": "3.9.7"
  }
 },
 "nbformat": 4,
 "nbformat_minor": 5
}
